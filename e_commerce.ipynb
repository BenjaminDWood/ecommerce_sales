{
 "cells": [
  {
   "cell_type": "code",
   "execution_count": 2,
   "id": "58509863-7836-4bda-b332-1544d86eb369",
   "metadata": {},
   "outputs": [],
   "source": [
    "import pandas as pd\n",
    "import datetime as dt"
   ]
  },
  {
   "cell_type": "markdown",
   "id": "9dd4d4fe-7941-4e65-8340-863c5f2c5dd8",
   "metadata": {},
   "source": [
    "## Main Sales Report Table"
   ]
  },
  {
   "cell_type": "code",
   "execution_count": null,
   "id": "fcd5e605-2c21-4c2c-8c78-d2bc4c3181a6",
   "metadata": {},
   "outputs": [],
   "source": [
    "data = pd.read_csv('Amazon Sale Report.csv')\n",
    "df = data.copy()\n",
    "df.head()"
   ]
  },
  {
   "cell_type": "code",
   "execution_count": null,
   "id": "eb438630-869c-47d7-a9cc-6d758f73aa12",
   "metadata": {},
   "outputs": [],
   "source": [
    "df.columns.values"
   ]
  },
  {
   "cell_type": "code",
   "execution_count": null,
   "id": "738ffb5d-227c-4af8-95d9-3412cfbdf292",
   "metadata": {},
   "outputs": [],
   "source": [
    "df = df.drop(columns='Unnamed: 22')\n",
    "df.head()"
   ]
  },
  {
   "cell_type": "code",
   "execution_count": null,
   "id": "0578aaaf-170f-439e-9cbe-9c86c1759099",
   "metadata": {},
   "outputs": [],
   "source": [
    "type(df['Date'][0])"
   ]
  },
  {
   "cell_type": "code",
   "execution_count": null,
   "id": "5b528801-54a4-410e-a9c3-021010fb1556",
   "metadata": {},
   "outputs": [],
   "source": [
    "df['Date'] = pd.to_datetime(df['Date'], format = '%m-%d-%y')"
   ]
  },
  {
   "cell_type": "code",
   "execution_count": null,
   "id": "5f4deaa4-2dca-4a0b-8180-85bd4cd4ff3b",
   "metadata": {},
   "outputs": [],
   "source": [
    "type(df['Date'][0])"
   ]
  },
  {
   "cell_type": "code",
   "execution_count": null,
   "id": "3e74337f-c3bb-4cd9-a72b-e99002383bfe",
   "metadata": {},
   "outputs": [],
   "source": [
    "cols = ['index', 'Order ID', 'Date', 'Status', 'Fulfilment',\n",
    "       'Sales Channel', 'ship-service-level', 'Style', 'SKU', 'Category',\n",
    "       'Size', 'ASIN', 'Courier Status', 'Qty', 'currency', 'Amount',\n",
    "       'ship-city', 'ship-state', 'ship-postal-code', 'ship-country',\n",
    "       'promotion-ids', 'B2B', 'fulfilled-by']\n",
    "\n",
    "df.columns = cols"
   ]
  },
  {
   "cell_type": "code",
   "execution_count": null,
   "id": "1dd06274-9308-4d57-9fa5-22ee109e50ca",
   "metadata": {},
   "outputs": [],
   "source": [
    "df.columns.values"
   ]
  },
  {
   "cell_type": "code",
   "execution_count": null,
   "id": "8486ee65-96b9-426f-ab5d-e47182caf805",
   "metadata": {},
   "outputs": [],
   "source": [
    "df.dtypes"
   ]
  },
  {
   "cell_type": "code",
   "execution_count": null,
   "id": "d02b3a86-1647-4a10-b7ea-b102943c1d61",
   "metadata": {},
   "outputs": [],
   "source": [
    "cols = ['index', 'order_id', 'date', 'status', 'fulfilment',\n",
    "       'sales_channel', 'ship_service_level', 'style', 'sku', 'category',\n",
    "       'size', 'asin', 'courier_status', 'qty', 'currency', 'amount',\n",
    "       'ship_city', 'ship_state', 'ship_postal_code', 'ship_country',\n",
    "       'promotion_ids', 'b2b', 'fulfilled_by']"
   ]
  },
  {
   "cell_type": "code",
   "execution_count": null,
   "id": "d320cbca-bd5d-4a72-83e4-aa022bdd5d3c",
   "metadata": {},
   "outputs": [],
   "source": [
    "df.columns = cols\n",
    "df.head()"
   ]
  },
  {
   "cell_type": "code",
   "execution_count": null,
   "id": "48845161-b39a-4577-b7f9-34ad8f1c92f8",
   "metadata": {},
   "outputs": [],
   "source": [
    "df.info()"
   ]
  },
  {
   "cell_type": "code",
   "execution_count": null,
   "id": "493194bf-26d9-4360-99fc-8d6486741f39",
   "metadata": {},
   "outputs": [],
   "source": [
    "from sqlalchemy import create_engine"
   ]
  },
  {
   "cell_type": "code",
   "execution_count": null,
   "id": "6ff33476-7ace-42e6-b9ff-3713afb14a55",
   "metadata": {},
   "outputs": [],
   "source": [
    "username = 'root'\n",
    "password = 'generic'\n",
    "host = 'localhost'         # or the {{c1::IP address}}\n",
    "port = unknown                # default MySQL {{c1::port}}\n",
    "database = 'ecommerce'  # your {{c1::DB name}}\n",
    "\n",
    "engine = create_engine(f\"mysql+pymysql://{username}:{password}@{host}:{port}/{database}\")"
   ]
  },
  {
   "cell_type": "code",
   "execution_count": null,
   "id": "1d4aff92-025b-4e12-9428-0a30d8f945cc",
   "metadata": {},
   "outputs": [],
   "source": [
    "df.to_sql('sales_report', con=engine, if_exists='replace', index=False)"
   ]
  },
  {
   "cell_type": "markdown",
   "id": "0d1701d6-41c6-4a34-a5c9-6642f04b0b81",
   "metadata": {},
   "source": [
    "## SKU Code Table (item stock)"
   ]
  },
  {
   "cell_type": "code",
   "execution_count": null,
   "id": "e37ddae4-fe96-4cea-b73d-f0529d73d417",
   "metadata": {},
   "outputs": [],
   "source": [
    "data2 = pd.read_csv('Sale Report.csv')\n",
    "sr = data2.copy()\n",
    "sr.head()"
   ]
  },
  {
   "cell_type": "code",
   "execution_count": null,
   "id": "26a2bf9e-8a71-4daa-9894-a3dda0eee8dc",
   "metadata": {},
   "outputs": [],
   "source": [
    "sr.info()"
   ]
  },
  {
   "cell_type": "code",
   "execution_count": null,
   "id": "8cb97732-52ba-411a-b25b-8a7835440f9b",
   "metadata": {},
   "outputs": [],
   "source": [
    "sr.columns.values"
   ]
  },
  {
   "cell_type": "code",
   "execution_count": null,
   "id": "e3f49293-1b5d-4f33-8616-c348a3595118",
   "metadata": {},
   "outputs": [],
   "source": [
    "sr_cols = ['index', 'sku_code', 'design_no', 'stock', 'category', 'size',\n",
    "       'color']\n",
    "sr.columns = sr_cols\n",
    "sr.head()"
   ]
  },
  {
   "cell_type": "code",
   "execution_count": null,
   "id": "14a2395f-0819-42c7-8fed-b67ac0a8d8ea",
   "metadata": {},
   "outputs": [],
   "source": [
    "sr.to_sql('item_stock', con=engine, if_exists='replace', index=False)"
   ]
  },
  {
   "cell_type": "markdown",
   "id": "03b680b0-9d51-41e7-98a3-efd942247daa",
   "metadata": {},
   "source": [
    "## International Sales Report"
   ]
  },
  {
   "cell_type": "code",
   "execution_count": 153,
   "id": "aedebe89-9b4c-4114-a683-332d6d8d01ce",
   "metadata": {},
   "outputs": [
    {
     "data": {
      "text/html": [
       "<div>\n",
       "<style scoped>\n",
       "    .dataframe tbody tr th:only-of-type {\n",
       "        vertical-align: middle;\n",
       "    }\n",
       "\n",
       "    .dataframe tbody tr th {\n",
       "        vertical-align: top;\n",
       "    }\n",
       "\n",
       "    .dataframe thead th {\n",
       "        text-align: right;\n",
       "    }\n",
       "</style>\n",
       "<table border=\"1\" class=\"dataframe\">\n",
       "  <thead>\n",
       "    <tr style=\"text-align: right;\">\n",
       "      <th></th>\n",
       "      <th>index</th>\n",
       "      <th>DATE</th>\n",
       "      <th>Months</th>\n",
       "      <th>CUSTOMER</th>\n",
       "      <th>Style</th>\n",
       "      <th>SKU</th>\n",
       "      <th>Size</th>\n",
       "      <th>PCS</th>\n",
       "      <th>RATE</th>\n",
       "      <th>GROSS AMT</th>\n",
       "    </tr>\n",
       "  </thead>\n",
       "  <tbody>\n",
       "    <tr>\n",
       "      <th>0</th>\n",
       "      <td>0.0</td>\n",
       "      <td>06/05/2021</td>\n",
       "      <td>Jun-21</td>\n",
       "      <td>REVATHY LOGANATHAN</td>\n",
       "      <td>MEN5004</td>\n",
       "      <td>MEN5004-KR-L</td>\n",
       "      <td>L</td>\n",
       "      <td>1.0</td>\n",
       "      <td>616.56</td>\n",
       "      <td>617.0</td>\n",
       "    </tr>\n",
       "    <tr>\n",
       "      <th>1</th>\n",
       "      <td>1.0</td>\n",
       "      <td>06/05/2021</td>\n",
       "      <td>Jun-21</td>\n",
       "      <td>REVATHY LOGANATHAN</td>\n",
       "      <td>MEN5004</td>\n",
       "      <td>MEN5004-KR-XL</td>\n",
       "      <td>XL</td>\n",
       "      <td>1.0</td>\n",
       "      <td>616.56</td>\n",
       "      <td>617.0</td>\n",
       "    </tr>\n",
       "    <tr>\n",
       "      <th>2</th>\n",
       "      <td>2.0</td>\n",
       "      <td>06/05/2021</td>\n",
       "      <td>Jun-21</td>\n",
       "      <td>REVATHY LOGANATHAN</td>\n",
       "      <td>MEN5004</td>\n",
       "      <td>MEN5004-KR-XXL</td>\n",
       "      <td>XXL</td>\n",
       "      <td>1.0</td>\n",
       "      <td>616.56</td>\n",
       "      <td>617.0</td>\n",
       "    </tr>\n",
       "    <tr>\n",
       "      <th>3</th>\n",
       "      <td>3.0</td>\n",
       "      <td>06/05/2021</td>\n",
       "      <td>Jun-21</td>\n",
       "      <td>REVATHY LOGANATHAN</td>\n",
       "      <td>MEN5009</td>\n",
       "      <td>MEN5009-KR-L</td>\n",
       "      <td>L</td>\n",
       "      <td>1.0</td>\n",
       "      <td>616.56</td>\n",
       "      <td>617.0</td>\n",
       "    </tr>\n",
       "    <tr>\n",
       "      <th>4</th>\n",
       "      <td>4.0</td>\n",
       "      <td>06/05/2021</td>\n",
       "      <td>Jun-21</td>\n",
       "      <td>REVATHY LOGANATHAN</td>\n",
       "      <td>MEN5011</td>\n",
       "      <td>MEN5011-KR-L</td>\n",
       "      <td>L</td>\n",
       "      <td>1.0</td>\n",
       "      <td>616.56</td>\n",
       "      <td>617.0</td>\n",
       "    </tr>\n",
       "  </tbody>\n",
       "</table>\n",
       "</div>"
      ],
      "text/plain": [
       "   index        DATE  Months            CUSTOMER    Style             SKU  \\\n",
       "0    0.0  06/05/2021  Jun-21  REVATHY LOGANATHAN  MEN5004    MEN5004-KR-L   \n",
       "1    1.0  06/05/2021  Jun-21  REVATHY LOGANATHAN  MEN5004   MEN5004-KR-XL   \n",
       "2    2.0  06/05/2021  Jun-21  REVATHY LOGANATHAN  MEN5004  MEN5004-KR-XXL   \n",
       "3    3.0  06/05/2021  Jun-21  REVATHY LOGANATHAN  MEN5009    MEN5009-KR-L   \n",
       "4    4.0  06/05/2021  Jun-21  REVATHY LOGANATHAN  MEN5011    MEN5011-KR-L   \n",
       "\n",
       "  Size  PCS    RATE  GROSS AMT  \n",
       "0    L  1.0  616.56      617.0  \n",
       "1   XL  1.0  616.56      617.0  \n",
       "2  XXL  1.0  616.56      617.0  \n",
       "3    L  1.0  616.56      617.0  \n",
       "4    L  1.0  616.56      617.0  "
      ]
     },
     "execution_count": 153,
     "metadata": {},
     "output_type": "execute_result"
    }
   ],
   "source": [
    "int_sales_raw = pd.read_csv('International sale Report.csv')\n",
    "isr = int_sales_raw.copy()\n",
    "isr.head()"
   ]
  },
  {
   "cell_type": "code",
   "execution_count": 154,
   "id": "61f77189-183e-4960-84f7-a11dcd6db828",
   "metadata": {},
   "outputs": [
    {
     "name": "stdout",
     "output_type": "stream",
     "text": [
      "<class 'pandas.core.frame.DataFrame'>\n",
      "RangeIndex: 37432 entries, 0 to 37431\n",
      "Data columns (total 10 columns):\n",
      " #   Column     Non-Null Count  Dtype  \n",
      "---  ------     --------------  -----  \n",
      " 0   index      18635 non-null  float64\n",
      " 1   DATE       18635 non-null  object \n",
      " 2   Months     18635 non-null  object \n",
      " 3   CUSTOMER   18635 non-null  object \n",
      " 4   Style      18635 non-null  object \n",
      " 5   SKU        17218 non-null  object \n",
      " 6   Size       18635 non-null  object \n",
      " 7   PCS        18635 non-null  float64\n",
      " 8   RATE       18635 non-null  float64\n",
      " 9   GROSS AMT  18635 non-null  float64\n",
      "dtypes: float64(4), object(6)\n",
      "memory usage: 2.9+ MB\n"
     ]
    }
   ],
   "source": [
    "isr.info()"
   ]
  },
  {
   "cell_type": "markdown",
   "id": "597bbb47-0b24-403f-ae2a-4cc40bfe5b1f",
   "metadata": {},
   "source": [
    "#### Notes\n",
    "\n",
    "SKU has a lot of nulls, everything else intact. Only option is to copy the Style into SKU."
   ]
  },
  {
   "cell_type": "code",
   "execution_count": 155,
   "id": "4bddf391-a080-4396-96f6-1b25581177e7",
   "metadata": {},
   "outputs": [
    {
     "name": "stdout",
     "output_type": "stream",
     "text": [
      "RangeIndex(start=0, stop=37432, step=1)\n"
     ]
    }
   ],
   "source": [
    "print(isr.index)"
   ]
  },
  {
   "cell_type": "code",
   "execution_count": 156,
   "id": "45f03171-6538-4875-9b13-7e27c7933456",
   "metadata": {},
   "outputs": [
    {
     "data": {
      "text/html": [
       "<div>\n",
       "<style scoped>\n",
       "    .dataframe tbody tr th:only-of-type {\n",
       "        vertical-align: middle;\n",
       "    }\n",
       "\n",
       "    .dataframe tbody tr th {\n",
       "        vertical-align: top;\n",
       "    }\n",
       "\n",
       "    .dataframe thead th {\n",
       "        text-align: right;\n",
       "    }\n",
       "</style>\n",
       "<table border=\"1\" class=\"dataframe\">\n",
       "  <thead>\n",
       "    <tr style=\"text-align: right;\">\n",
       "      <th></th>\n",
       "      <th>index</th>\n",
       "      <th>DATE</th>\n",
       "      <th>Months</th>\n",
       "      <th>CUSTOMER</th>\n",
       "      <th>Style</th>\n",
       "      <th>SKU</th>\n",
       "      <th>Size</th>\n",
       "      <th>PCS</th>\n",
       "      <th>RATE</th>\n",
       "      <th>GROSS AMT</th>\n",
       "    </tr>\n",
       "  </thead>\n",
       "  <tbody>\n",
       "    <tr>\n",
       "      <th>0</th>\n",
       "      <td>0.0</td>\n",
       "      <td>06/05/2021</td>\n",
       "      <td>Jun-21</td>\n",
       "      <td>REVATHY LOGANATHAN</td>\n",
       "      <td>MEN5004</td>\n",
       "      <td>MEN5004-KR-L</td>\n",
       "      <td>L</td>\n",
       "      <td>1.0</td>\n",
       "      <td>616.56</td>\n",
       "      <td>617.0</td>\n",
       "    </tr>\n",
       "    <tr>\n",
       "      <th>1</th>\n",
       "      <td>1.0</td>\n",
       "      <td>06/05/2021</td>\n",
       "      <td>Jun-21</td>\n",
       "      <td>REVATHY LOGANATHAN</td>\n",
       "      <td>MEN5004</td>\n",
       "      <td>MEN5004-KR-XL</td>\n",
       "      <td>XL</td>\n",
       "      <td>1.0</td>\n",
       "      <td>616.56</td>\n",
       "      <td>617.0</td>\n",
       "    </tr>\n",
       "    <tr>\n",
       "      <th>2</th>\n",
       "      <td>2.0</td>\n",
       "      <td>06/05/2021</td>\n",
       "      <td>Jun-21</td>\n",
       "      <td>REVATHY LOGANATHAN</td>\n",
       "      <td>MEN5004</td>\n",
       "      <td>MEN5004-KR-XXL</td>\n",
       "      <td>XXL</td>\n",
       "      <td>1.0</td>\n",
       "      <td>616.56</td>\n",
       "      <td>617.0</td>\n",
       "    </tr>\n",
       "    <tr>\n",
       "      <th>3</th>\n",
       "      <td>3.0</td>\n",
       "      <td>06/05/2021</td>\n",
       "      <td>Jun-21</td>\n",
       "      <td>REVATHY LOGANATHAN</td>\n",
       "      <td>MEN5009</td>\n",
       "      <td>MEN5009-KR-L</td>\n",
       "      <td>L</td>\n",
       "      <td>1.0</td>\n",
       "      <td>616.56</td>\n",
       "      <td>617.0</td>\n",
       "    </tr>\n",
       "    <tr>\n",
       "      <th>4</th>\n",
       "      <td>4.0</td>\n",
       "      <td>06/05/2021</td>\n",
       "      <td>Jun-21</td>\n",
       "      <td>REVATHY LOGANATHAN</td>\n",
       "      <td>MEN5011</td>\n",
       "      <td>MEN5011-KR-L</td>\n",
       "      <td>L</td>\n",
       "      <td>1.0</td>\n",
       "      <td>616.56</td>\n",
       "      <td>617.0</td>\n",
       "    </tr>\n",
       "    <tr>\n",
       "      <th>...</th>\n",
       "      <td>...</td>\n",
       "      <td>...</td>\n",
       "      <td>...</td>\n",
       "      <td>...</td>\n",
       "      <td>...</td>\n",
       "      <td>...</td>\n",
       "      <td>...</td>\n",
       "      <td>...</td>\n",
       "      <td>...</td>\n",
       "      <td>...</td>\n",
       "    </tr>\n",
       "    <tr>\n",
       "      <th>37427</th>\n",
       "      <td>NaN</td>\n",
       "      <td>NaN</td>\n",
       "      <td>NaN</td>\n",
       "      <td>NaN</td>\n",
       "      <td>NaN</td>\n",
       "      <td>NaN</td>\n",
       "      <td>NaN</td>\n",
       "      <td>NaN</td>\n",
       "      <td>NaN</td>\n",
       "      <td>NaN</td>\n",
       "    </tr>\n",
       "    <tr>\n",
       "      <th>37428</th>\n",
       "      <td>NaN</td>\n",
       "      <td>NaN</td>\n",
       "      <td>NaN</td>\n",
       "      <td>NaN</td>\n",
       "      <td>NaN</td>\n",
       "      <td>NaN</td>\n",
       "      <td>NaN</td>\n",
       "      <td>NaN</td>\n",
       "      <td>NaN</td>\n",
       "      <td>NaN</td>\n",
       "    </tr>\n",
       "    <tr>\n",
       "      <th>37429</th>\n",
       "      <td>NaN</td>\n",
       "      <td>NaN</td>\n",
       "      <td>NaN</td>\n",
       "      <td>NaN</td>\n",
       "      <td>NaN</td>\n",
       "      <td>NaN</td>\n",
       "      <td>NaN</td>\n",
       "      <td>NaN</td>\n",
       "      <td>NaN</td>\n",
       "      <td>NaN</td>\n",
       "    </tr>\n",
       "    <tr>\n",
       "      <th>37430</th>\n",
       "      <td>NaN</td>\n",
       "      <td>NaN</td>\n",
       "      <td>NaN</td>\n",
       "      <td>NaN</td>\n",
       "      <td>NaN</td>\n",
       "      <td>NaN</td>\n",
       "      <td>NaN</td>\n",
       "      <td>NaN</td>\n",
       "      <td>NaN</td>\n",
       "      <td>NaN</td>\n",
       "    </tr>\n",
       "    <tr>\n",
       "      <th>37431</th>\n",
       "      <td>NaN</td>\n",
       "      <td>NaN</td>\n",
       "      <td>NaN</td>\n",
       "      <td>NaN</td>\n",
       "      <td>NaN</td>\n",
       "      <td>NaN</td>\n",
       "      <td>NaN</td>\n",
       "      <td>NaN</td>\n",
       "      <td>NaN</td>\n",
       "      <td>NaN</td>\n",
       "    </tr>\n",
       "  </tbody>\n",
       "</table>\n",
       "<p>37432 rows × 10 columns</p>\n",
       "</div>"
      ],
      "text/plain": [
       "       index        DATE  Months            CUSTOMER    Style             SKU  \\\n",
       "0        0.0  06/05/2021  Jun-21  REVATHY LOGANATHAN  MEN5004    MEN5004-KR-L   \n",
       "1        1.0  06/05/2021  Jun-21  REVATHY LOGANATHAN  MEN5004   MEN5004-KR-XL   \n",
       "2        2.0  06/05/2021  Jun-21  REVATHY LOGANATHAN  MEN5004  MEN5004-KR-XXL   \n",
       "3        3.0  06/05/2021  Jun-21  REVATHY LOGANATHAN  MEN5009    MEN5009-KR-L   \n",
       "4        4.0  06/05/2021  Jun-21  REVATHY LOGANATHAN  MEN5011    MEN5011-KR-L   \n",
       "...      ...         ...     ...                 ...      ...             ...   \n",
       "37427    NaN         NaN     NaN                 NaN      NaN             NaN   \n",
       "37428    NaN         NaN     NaN                 NaN      NaN             NaN   \n",
       "37429    NaN         NaN     NaN                 NaN      NaN             NaN   \n",
       "37430    NaN         NaN     NaN                 NaN      NaN             NaN   \n",
       "37431    NaN         NaN     NaN                 NaN      NaN             NaN   \n",
       "\n",
       "      Size  PCS    RATE  GROSS AMT  \n",
       "0        L  1.0  616.56      617.0  \n",
       "1       XL  1.0  616.56      617.0  \n",
       "2      XXL  1.0  616.56      617.0  \n",
       "3        L  1.0  616.56      617.0  \n",
       "4        L  1.0  616.56      617.0  \n",
       "...    ...  ...     ...        ...  \n",
       "37427  NaN  NaN     NaN        NaN  \n",
       "37428  NaN  NaN     NaN        NaN  \n",
       "37429  NaN  NaN     NaN        NaN  \n",
       "37430  NaN  NaN     NaN        NaN  \n",
       "37431  NaN  NaN     NaN        NaN  \n",
       "\n",
       "[37432 rows x 10 columns]"
      ]
     },
     "execution_count": 156,
     "metadata": {},
     "output_type": "execute_result"
    }
   ],
   "source": [
    "isr.reset_index(drop=True)"
   ]
  },
  {
   "cell_type": "code",
   "execution_count": 157,
   "id": "3b99ffd1-7674-4b3c-9da2-423b6fdc925e",
   "metadata": {},
   "outputs": [],
   "source": [
    "isr = isr.dropna(subset=['DATE'])"
   ]
  },
  {
   "cell_type": "code",
   "execution_count": 158,
   "id": "5b62575d-fb23-4811-a6cd-0c3421388305",
   "metadata": {},
   "outputs": [
    {
     "data": {
      "text/html": [
       "<div>\n",
       "<style scoped>\n",
       "    .dataframe tbody tr th:only-of-type {\n",
       "        vertical-align: middle;\n",
       "    }\n",
       "\n",
       "    .dataframe tbody tr th {\n",
       "        vertical-align: top;\n",
       "    }\n",
       "\n",
       "    .dataframe thead th {\n",
       "        text-align: right;\n",
       "    }\n",
       "</style>\n",
       "<table border=\"1\" class=\"dataframe\">\n",
       "  <thead>\n",
       "    <tr style=\"text-align: right;\">\n",
       "      <th></th>\n",
       "      <th>index</th>\n",
       "      <th>DATE</th>\n",
       "      <th>Months</th>\n",
       "      <th>CUSTOMER</th>\n",
       "      <th>Style</th>\n",
       "      <th>SKU</th>\n",
       "      <th>Size</th>\n",
       "      <th>PCS</th>\n",
       "      <th>RATE</th>\n",
       "      <th>GROSS AMT</th>\n",
       "    </tr>\n",
       "  </thead>\n",
       "  <tbody>\n",
       "    <tr>\n",
       "      <th>0</th>\n",
       "      <td>0.0</td>\n",
       "      <td>06/05/2021</td>\n",
       "      <td>Jun-21</td>\n",
       "      <td>REVATHY LOGANATHAN</td>\n",
       "      <td>MEN5004</td>\n",
       "      <td>MEN5004-KR-L</td>\n",
       "      <td>L</td>\n",
       "      <td>1.0</td>\n",
       "      <td>616.56</td>\n",
       "      <td>617.0</td>\n",
       "    </tr>\n",
       "    <tr>\n",
       "      <th>1</th>\n",
       "      <td>1.0</td>\n",
       "      <td>06/05/2021</td>\n",
       "      <td>Jun-21</td>\n",
       "      <td>REVATHY LOGANATHAN</td>\n",
       "      <td>MEN5004</td>\n",
       "      <td>MEN5004-KR-XL</td>\n",
       "      <td>XL</td>\n",
       "      <td>1.0</td>\n",
       "      <td>616.56</td>\n",
       "      <td>617.0</td>\n",
       "    </tr>\n",
       "    <tr>\n",
       "      <th>2</th>\n",
       "      <td>2.0</td>\n",
       "      <td>06/05/2021</td>\n",
       "      <td>Jun-21</td>\n",
       "      <td>REVATHY LOGANATHAN</td>\n",
       "      <td>MEN5004</td>\n",
       "      <td>MEN5004-KR-XXL</td>\n",
       "      <td>XXL</td>\n",
       "      <td>1.0</td>\n",
       "      <td>616.56</td>\n",
       "      <td>617.0</td>\n",
       "    </tr>\n",
       "    <tr>\n",
       "      <th>3</th>\n",
       "      <td>3.0</td>\n",
       "      <td>06/05/2021</td>\n",
       "      <td>Jun-21</td>\n",
       "      <td>REVATHY LOGANATHAN</td>\n",
       "      <td>MEN5009</td>\n",
       "      <td>MEN5009-KR-L</td>\n",
       "      <td>L</td>\n",
       "      <td>1.0</td>\n",
       "      <td>616.56</td>\n",
       "      <td>617.0</td>\n",
       "    </tr>\n",
       "    <tr>\n",
       "      <th>4</th>\n",
       "      <td>4.0</td>\n",
       "      <td>06/05/2021</td>\n",
       "      <td>Jun-21</td>\n",
       "      <td>REVATHY LOGANATHAN</td>\n",
       "      <td>MEN5011</td>\n",
       "      <td>MEN5011-KR-L</td>\n",
       "      <td>L</td>\n",
       "      <td>1.0</td>\n",
       "      <td>616.56</td>\n",
       "      <td>617.0</td>\n",
       "    </tr>\n",
       "    <tr>\n",
       "      <th>...</th>\n",
       "      <td>...</td>\n",
       "      <td>...</td>\n",
       "      <td>...</td>\n",
       "      <td>...</td>\n",
       "      <td>...</td>\n",
       "      <td>...</td>\n",
       "      <td>...</td>\n",
       "      <td>...</td>\n",
       "      <td>...</td>\n",
       "      <td>...</td>\n",
       "    </tr>\n",
       "    <tr>\n",
       "      <th>18630</th>\n",
       "      <td>18630.0</td>\n",
       "      <td>04-30-22</td>\n",
       "      <td>Apr-22</td>\n",
       "      <td>Rino Sandaran</td>\n",
       "      <td>J0280</td>\n",
       "      <td>NaN</td>\n",
       "      <td>S</td>\n",
       "      <td>1.0</td>\n",
       "      <td>1812.50</td>\n",
       "      <td>1812.5</td>\n",
       "    </tr>\n",
       "    <tr>\n",
       "      <th>18631</th>\n",
       "      <td>18631.0</td>\n",
       "      <td>04-30-22</td>\n",
       "      <td>Apr-22</td>\n",
       "      <td>Rino Sandaran</td>\n",
       "      <td>SET350</td>\n",
       "      <td>NaN</td>\n",
       "      <td>M</td>\n",
       "      <td>1.0</td>\n",
       "      <td>1512.50</td>\n",
       "      <td>1512.5</td>\n",
       "    </tr>\n",
       "    <tr>\n",
       "      <th>18632</th>\n",
       "      <td>18632.0</td>\n",
       "      <td>04-30-22</td>\n",
       "      <td>Apr-22</td>\n",
       "      <td>Rino Sandaran</td>\n",
       "      <td>SET350</td>\n",
       "      <td>NaN</td>\n",
       "      <td>L</td>\n",
       "      <td>1.0</td>\n",
       "      <td>1512.50</td>\n",
       "      <td>1512.5</td>\n",
       "    </tr>\n",
       "    <tr>\n",
       "      <th>18633</th>\n",
       "      <td>18633.0</td>\n",
       "      <td>04-30-22</td>\n",
       "      <td>Apr-22</td>\n",
       "      <td>Rino Sandaran</td>\n",
       "      <td>J0242</td>\n",
       "      <td>NaN</td>\n",
       "      <td>XXXL</td>\n",
       "      <td>1.0</td>\n",
       "      <td>1312.50</td>\n",
       "      <td>1312.5</td>\n",
       "    </tr>\n",
       "    <tr>\n",
       "      <th>18634</th>\n",
       "      <td>18634.0</td>\n",
       "      <td>04-30-22</td>\n",
       "      <td>Apr-22</td>\n",
       "      <td>Rino Sandaran</td>\n",
       "      <td>SET043</td>\n",
       "      <td>NaN</td>\n",
       "      <td>XXXL</td>\n",
       "      <td>1.0</td>\n",
       "      <td>1020.00</td>\n",
       "      <td>1020.0</td>\n",
       "    </tr>\n",
       "  </tbody>\n",
       "</table>\n",
       "<p>18635 rows × 10 columns</p>\n",
       "</div>"
      ],
      "text/plain": [
       "         index        DATE  Months            CUSTOMER    Style  \\\n",
       "0          0.0  06/05/2021  Jun-21  REVATHY LOGANATHAN  MEN5004   \n",
       "1          1.0  06/05/2021  Jun-21  REVATHY LOGANATHAN  MEN5004   \n",
       "2          2.0  06/05/2021  Jun-21  REVATHY LOGANATHAN  MEN5004   \n",
       "3          3.0  06/05/2021  Jun-21  REVATHY LOGANATHAN  MEN5009   \n",
       "4          4.0  06/05/2021  Jun-21  REVATHY LOGANATHAN  MEN5011   \n",
       "...        ...         ...     ...                 ...      ...   \n",
       "18630  18630.0    04-30-22  Apr-22       Rino Sandaran    J0280   \n",
       "18631  18631.0    04-30-22  Apr-22       Rino Sandaran   SET350   \n",
       "18632  18632.0    04-30-22  Apr-22       Rino Sandaran   SET350   \n",
       "18633  18633.0    04-30-22  Apr-22       Rino Sandaran    J0242   \n",
       "18634  18634.0    04-30-22  Apr-22       Rino Sandaran   SET043   \n",
       "\n",
       "                  SKU  Size  PCS     RATE  GROSS AMT  \n",
       "0        MEN5004-KR-L     L  1.0   616.56      617.0  \n",
       "1       MEN5004-KR-XL    XL  1.0   616.56      617.0  \n",
       "2      MEN5004-KR-XXL   XXL  1.0   616.56      617.0  \n",
       "3        MEN5009-KR-L     L  1.0   616.56      617.0  \n",
       "4        MEN5011-KR-L     L  1.0   616.56      617.0  \n",
       "...               ...   ...  ...      ...        ...  \n",
       "18630             NaN     S  1.0  1812.50     1812.5  \n",
       "18631             NaN     M  1.0  1512.50     1512.5  \n",
       "18632             NaN     L  1.0  1512.50     1512.5  \n",
       "18633             NaN  XXXL  1.0  1312.50     1312.5  \n",
       "18634             NaN  XXXL  1.0  1020.00     1020.0  \n",
       "\n",
       "[18635 rows x 10 columns]"
      ]
     },
     "execution_count": 158,
     "metadata": {},
     "output_type": "execute_result"
    }
   ],
   "source": [
    "isr.reset_index(drop=True)"
   ]
  },
  {
   "cell_type": "code",
   "execution_count": 159,
   "id": "303e58fb-3074-474a-b55e-5aed061551da",
   "metadata": {},
   "outputs": [
    {
     "name": "stdout",
     "output_type": "stream",
     "text": [
      "<class 'pandas.core.frame.DataFrame'>\n",
      "Index: 18635 entries, 0 to 18634\n",
      "Data columns (total 10 columns):\n",
      " #   Column     Non-Null Count  Dtype  \n",
      "---  ------     --------------  -----  \n",
      " 0   index      18635 non-null  float64\n",
      " 1   DATE       18635 non-null  object \n",
      " 2   Months     18635 non-null  object \n",
      " 3   CUSTOMER   18635 non-null  object \n",
      " 4   Style      18635 non-null  object \n",
      " 5   SKU        17218 non-null  object \n",
      " 6   Size       18635 non-null  object \n",
      " 7   PCS        18635 non-null  float64\n",
      " 8   RATE       18635 non-null  float64\n",
      " 9   GROSS AMT  18635 non-null  float64\n",
      "dtypes: float64(4), object(6)\n",
      "memory usage: 1.6+ MB\n"
     ]
    }
   ],
   "source": [
    "isr.info()"
   ]
  },
  {
   "cell_type": "code",
   "execution_count": 160,
   "id": "f52108b5-2d94-48c6-bdb5-58c8bfe78f62",
   "metadata": {},
   "outputs": [],
   "source": [
    "isr_sku = isr.copy()"
   ]
  },
  {
   "cell_type": "code",
   "execution_count": 161,
   "id": "67726191-04b7-4edb-886d-fc81642fed04",
   "metadata": {},
   "outputs": [],
   "source": [
    "for i in range(isr_sku['SKU'].shape[0]):\n",
    "    if pd.isna(isr_sku['SKU'][i]):\n",
    "        isr_sku.loc[i, 'SKU'] = isr_sku.loc[i, 'Style']"
   ]
  },
  {
   "cell_type": "code",
   "execution_count": 162,
   "id": "3867c6b0-d6ba-4f60-8170-d4c652dc8189",
   "metadata": {},
   "outputs": [
    {
     "name": "stdout",
     "output_type": "stream",
     "text": [
      "<class 'pandas.core.frame.DataFrame'>\n",
      "Index: 18635 entries, 0 to 18634\n",
      "Data columns (total 10 columns):\n",
      " #   Column     Non-Null Count  Dtype  \n",
      "---  ------     --------------  -----  \n",
      " 0   index      18635 non-null  float64\n",
      " 1   DATE       18635 non-null  object \n",
      " 2   Months     18635 non-null  object \n",
      " 3   CUSTOMER   18635 non-null  object \n",
      " 4   Style      18635 non-null  object \n",
      " 5   SKU        18635 non-null  object \n",
      " 6   Size       18635 non-null  object \n",
      " 7   PCS        18635 non-null  float64\n",
      " 8   RATE       18635 non-null  float64\n",
      " 9   GROSS AMT  18635 non-null  float64\n",
      "dtypes: float64(4), object(6)\n",
      "memory usage: 2.1+ MB\n"
     ]
    }
   ],
   "source": [
    "isr_sku.info()"
   ]
  },
  {
   "cell_type": "code",
   "execution_count": 163,
   "id": "65a72e96-522a-4708-8230-c7d2d79449eb",
   "metadata": {},
   "outputs": [
    {
     "data": {
      "text/plain": [
       "0"
      ]
     },
     "execution_count": 163,
     "metadata": {},
     "output_type": "execute_result"
    }
   ],
   "source": [
    "isr_sku['SKU'].isna().sum()"
   ]
  },
  {
   "cell_type": "code",
   "execution_count": 164,
   "id": "06b56a49-df01-4737-ba7e-582aaf4e8de9",
   "metadata": {},
   "outputs": [],
   "source": [
    "isr = isr_sku"
   ]
  },
  {
   "cell_type": "markdown",
   "id": "6e187b3b-0c4c-4566-a79e-24f43911a8df",
   "metadata": {},
   "source": [
    "### Date"
   ]
  },
  {
   "cell_type": "code",
   "execution_count": 188,
   "id": "c4fcaac9-e2ec-4139-be59-ac66cea29cef",
   "metadata": {},
   "outputs": [],
   "source": [
    "isrd = isr.copy()"
   ]
  },
  {
   "cell_type": "code",
   "execution_count": 189,
   "id": "850e5ff0-506d-4194-9c4e-ebb3426437f9",
   "metadata": {},
   "outputs": [
    {
     "data": {
      "text/plain": [
       "str"
      ]
     },
     "execution_count": 189,
     "metadata": {},
     "output_type": "execute_result"
    }
   ],
   "source": [
    "type(isrd['DATE'][0])"
   ]
  },
  {
   "cell_type": "code",
   "execution_count": 190,
   "id": "e0fb23b5-c88a-49aa-9b5e-f1ca4875215f",
   "metadata": {},
   "outputs": [
    {
     "name": "stdout",
     "output_type": "stream",
     "text": [
      "<class 'pandas.core.frame.DataFrame'>\n",
      "Index: 18635 entries, 0 to 18634\n",
      "Data columns (total 10 columns):\n",
      " #   Column     Non-Null Count  Dtype  \n",
      "---  ------     --------------  -----  \n",
      " 0   index      18635 non-null  float64\n",
      " 1   DATE       18635 non-null  object \n",
      " 2   Months     18635 non-null  object \n",
      " 3   CUSTOMER   18635 non-null  object \n",
      " 4   Style      18635 non-null  object \n",
      " 5   SKU        18635 non-null  object \n",
      " 6   Size       18635 non-null  object \n",
      " 7   PCS        18635 non-null  float64\n",
      " 8   RATE       18635 non-null  float64\n",
      " 9   GROSS AMT  18635 non-null  float64\n",
      "dtypes: float64(4), object(6)\n",
      "memory usage: 2.1+ MB\n"
     ]
    }
   ],
   "source": [
    "isrd.info()"
   ]
  },
  {
   "cell_type": "code",
   "execution_count": 191,
   "id": "6075c151-d850-49f9-8e44-713e8e1549df",
   "metadata": {},
   "outputs": [],
   "source": [
    "isrd['DATE'] = isr['DATE'].str.replace(r\"\\s+\", \"\", regex=True)"
   ]
  },
  {
   "cell_type": "code",
   "execution_count": 192,
   "id": "2444f062-01b0-4a4b-a2e1-410d66d06656",
   "metadata": {},
   "outputs": [],
   "source": [
    "isrd['DATE'] = isrd['DATE'].str.strip()"
   ]
  },
  {
   "cell_type": "code",
   "execution_count": 193,
   "id": "2ca1f509-eb5a-4369-b184-710391c9fea9",
   "metadata": {},
   "outputs": [
    {
     "name": "stdout",
     "output_type": "stream",
     "text": [
      "<class 'pandas.core.frame.DataFrame'>\n",
      "Index: 18635 entries, 0 to 18634\n",
      "Data columns (total 10 columns):\n",
      " #   Column     Non-Null Count  Dtype  \n",
      "---  ------     --------------  -----  \n",
      " 0   index      18635 non-null  float64\n",
      " 1   DATE       18635 non-null  object \n",
      " 2   Months     18635 non-null  object \n",
      " 3   CUSTOMER   18635 non-null  object \n",
      " 4   Style      18635 non-null  object \n",
      " 5   SKU        18635 non-null  object \n",
      " 6   Size       18635 non-null  object \n",
      " 7   PCS        18635 non-null  float64\n",
      " 8   RATE       18635 non-null  float64\n",
      " 9   GROSS AMT  18635 non-null  float64\n",
      "dtypes: float64(4), object(6)\n",
      "memory usage: 2.1+ MB\n"
     ]
    }
   ],
   "source": [
    "isrd.info()"
   ]
  },
  {
   "cell_type": "code",
   "execution_count": 194,
   "id": "486da121-fb4e-409c-a5f6-e748bd5bb061",
   "metadata": {
    "scrolled": true
   },
   "outputs": [],
   "source": [
    "#isrd['DATE'] = pd.to_datetime(isrd['DATE'], errors='coerce', infer_datetime_format=True)\n",
    "#isrd.info()"
   ]
  },
  {
   "cell_type": "code",
   "execution_count": 195,
   "id": "8bff1b6f-f2ea-4d27-8266-a986a6c18e0d",
   "metadata": {},
   "outputs": [
    {
     "data": {
      "text/plain": [
       "265        06-23-21\n",
       "9209       02-22-22\n",
       "1979     08/04/2021\n",
       "210        06-18-21\n",
       "13866    02/05/2022\n",
       "1044     07/09/2021\n",
       "14620      02-21-22\n",
       "6859       11-27-21\n",
       "9280       02-23-22\n",
       "10092    03/09/2022\n",
       "14806      02-22-22\n",
       "16825      03-25-22\n",
       "17799      04-14-22\n",
       "1986     08/04/2021\n",
       "14745      02-22-22\n",
       "11069    10/12/2021\n",
       "14668      02-22-22\n",
       "1893       07-30-21\n",
       "12791      12-13-21\n",
       "3375       09-14-21\n",
       "15488    03/03/2022\n",
       "14565      02-21-22\n",
       "17685    04/08/2022\n",
       "11626      10-23-21\n",
       "12832      12-14-21\n",
       "18000      04-21-22\n",
       "7503     01/01/2022\n",
       "10565    10/05/2021\n",
       "12528      11-23-21\n",
       "2891       08-25-21\n",
       "Name: DATE, dtype: object"
      ]
     },
     "execution_count": 195,
     "metadata": {},
     "output_type": "execute_result"
    }
   ],
   "source": [
    "isrd['DATE'].sample(30)"
   ]
  },
  {
   "cell_type": "code",
   "execution_count": 196,
   "id": "b22ae860-80d3-44f1-9293-99cee80b25f7",
   "metadata": {},
   "outputs": [
    {
     "data": {
      "text/plain": [
       "0"
      ]
     },
     "execution_count": 196,
     "metadata": {},
     "output_type": "execute_result"
    }
   ],
   "source": [
    "isrd['DATE'].isna().sum()"
   ]
  },
  {
   "cell_type": "code",
   "execution_count": 197,
   "id": "42dd5aaf-a7a9-42a7-8620-b7b29ce0e47f",
   "metadata": {},
   "outputs": [
    {
     "name": "stdout",
     "output_type": "stream",
     "text": [
      "<class 'pandas.core.series.Series'>\n",
      "Index: 18635 entries, 0 to 18634\n",
      "Series name: DATE\n",
      "Non-Null Count  Dtype \n",
      "--------------  ----- \n",
      "18635 non-null  object\n",
      "dtypes: object(1)\n",
      "memory usage: 807.2+ KB\n"
     ]
    }
   ],
   "source": [
    "isrd['DATE'].info()"
   ]
  },
  {
   "cell_type": "code",
   "execution_count": 198,
   "id": "c0b5ecf9-966a-45cc-bee3-ec709f1aa7c6",
   "metadata": {},
   "outputs": [],
   "source": [
    "isrd['DATE'] = isrd['DATE'].str.replace(r\"-\",\"/\", regex=False)"
   ]
  },
  {
   "cell_type": "code",
   "execution_count": 199,
   "id": "2c3e33bf-180d-4a4c-bd35-7be6879dea8c",
   "metadata": {},
   "outputs": [
    {
     "data": {
      "text/plain": [
       "15133      02/25/22\n",
       "12139      11/16/21\n",
       "8070     02/05/2022\n",
       "13516      01/25/22\n",
       "5138     10/08/2021\n",
       "12948      12/15/21\n",
       "126      06/11/2021\n",
       "16637      03/23/22\n",
       "15033      02/24/22\n",
       "11934    11/03/2021\n",
       "17551    04/06/2022\n",
       "8040       01/31/22\n",
       "2511       08/15/21\n",
       "4903     10/05/2021\n",
       "5678       10/20/21\n",
       "13055      12/24/21\n",
       "833      07/09/2021\n",
       "2119     08/04/2021\n",
       "14907      02/22/22\n",
       "4851     10/05/2021\n",
       "5548       10/15/21\n",
       "9686       02/26/22\n",
       "18339    05/06/2022\n",
       "16010    03/03/2022\n",
       "6963     12/02/2021\n",
       "17708    04/08/2022\n",
       "13285    01/04/2022\n",
       "16643      03/23/22\n",
       "16214    03/09/2022\n",
       "10240    10/01/2021\n",
       "Name: DATE, dtype: object"
      ]
     },
     "execution_count": 199,
     "metadata": {},
     "output_type": "execute_result"
    }
   ],
   "source": [
    "isrd['DATE'].sample(30)"
   ]
  },
  {
   "cell_type": "code",
   "execution_count": 207,
   "id": "82b903ea-db35-4640-a097-ef3c2a13f5b7",
   "metadata": {},
   "outputs": [
    {
     "data": {
      "text/plain": [
       "8"
      ]
     },
     "execution_count": 207,
     "metadata": {},
     "output_type": "execute_result"
    }
   ],
   "source": [
    "len(isrd['DATE'][12947])"
   ]
  },
  {
   "cell_type": "code",
   "execution_count": 200,
   "id": "54a37e64-5f17-4120-bf07-46d6297615aa",
   "metadata": {
    "scrolled": true
   },
   "outputs": [],
   "source": [
    "#isrd['DATE'] = pd.to_datetime(isrd['DATE'], errors='coerce', infer_datetime_format=True) #Another failure...\n",
    "#isrd.info()"
   ]
  },
  {
   "cell_type": "markdown",
   "id": "86b7bd7a-3839-4e34-9e8a-5dd7ab3bdbf1",
   "metadata": {},
   "source": [
    "I was trying to avoid this as it wouldn't work in many situations, and I wanted to figure out how to really fix it, but these are all dates from this century, no silly 1900's dates, so I can just add in the '20', convert it and be done. What could possibli go wrong?"
   ]
  },
  {
   "cell_type": "code",
   "execution_count": null,
   "id": "b53e85fa-eeb0-4c18-80db-b9f89d01977c",
   "metadata": {},
   "outputs": [],
   "source": [
    "#for i in range(isrd['DATE'].shape[0]):\n",
    " #   if len(isrd['DATE'][i]) == 8:\n",
    "  #      isrd['DATE'][i] = isrd['DATE'][i][:-2] + '20' + isrd['DATE'][i][-2:]\n",
    "#Ah of course, iut can freeze up the whole dang thing"
   ]
  },
  {
   "cell_type": "code",
   "execution_count": 209,
   "id": "d575f095-6c49-468a-bd0c-5b46bc8008a0",
   "metadata": {},
   "outputs": [],
   "source": [
    "for i in range(isrd.shape[0]):\n",
    "    if len(isrd.loc[i, 'DATE']) == 8:\n",
    "        d = isrd.loc[i, 'DATE']\n",
    "        isrd.loc[i, 'DATE'] = d[:-2] + '20' + d[-2:]"
   ]
  },
  {
   "cell_type": "code",
   "execution_count": 210,
   "id": "c513bc2e-3ea0-4c9d-b69f-b063ba98e470",
   "metadata": {},
   "outputs": [
    {
     "name": "stdout",
     "output_type": "stream",
     "text": [
      "<class 'pandas.core.frame.DataFrame'>\n",
      "Index: 18635 entries, 0 to 18634\n",
      "Data columns (total 10 columns):\n",
      " #   Column     Non-Null Count  Dtype  \n",
      "---  ------     --------------  -----  \n",
      " 0   index      18635 non-null  float64\n",
      " 1   DATE       18635 non-null  object \n",
      " 2   Months     18635 non-null  object \n",
      " 3   CUSTOMER   18635 non-null  object \n",
      " 4   Style      18635 non-null  object \n",
      " 5   SKU        18635 non-null  object \n",
      " 6   Size       18635 non-null  object \n",
      " 7   PCS        18635 non-null  float64\n",
      " 8   RATE       18635 non-null  float64\n",
      " 9   GROSS AMT  18635 non-null  float64\n",
      "dtypes: float64(4), object(6)\n",
      "memory usage: 2.1+ MB\n"
     ]
    }
   ],
   "source": [
    "isrd.info()"
   ]
  },
  {
   "cell_type": "code",
   "execution_count": 211,
   "id": "0a08a89d-26fb-4010-98be-2ef88042ecbc",
   "metadata": {},
   "outputs": [
    {
     "data": {
      "text/plain": [
       "14198    02/16/2022\n",
       "18278    04/29/2022\n",
       "10739    10/06/2021\n",
       "4130     09/18/2021\n",
       "5347     10/11/2021\n",
       "6148     11/03/2021\n",
       "1892     07/30/2021\n",
       "11111    10/12/2021\n",
       "17037    03/26/2022\n",
       "9888     03/03/2022\n",
       "16319    03/10/2022\n",
       "2134     08/04/2021\n",
       "12200    11/19/2021\n",
       "11516    10/21/2021\n",
       "7578     01/04/2022\n",
       "2119     08/04/2021\n",
       "12974    12/16/2021\n",
       "4535     10/01/2021\n",
       "6630     11/22/2021\n",
       "2049     08/04/2021\n",
       "16106    03/03/2022\n",
       "15273    02/26/2022\n",
       "12762    12/09/2021\n",
       "2058     08/04/2021\n",
       "36       06/08/2021\n",
       "5052     10/06/2021\n",
       "139      06/15/2021\n",
       "8381     02/10/2022\n",
       "12790    12/13/2021\n",
       "2042     08/04/2021\n",
       "Name: DATE, dtype: object"
      ]
     },
     "execution_count": 211,
     "metadata": {},
     "output_type": "execute_result"
    }
   ],
   "source": [
    "isrd['DATE'].sample(30)"
   ]
  },
  {
   "cell_type": "code",
   "execution_count": 212,
   "id": "625db1e1-2a60-4454-a2fa-a751f6b29264",
   "metadata": {},
   "outputs": [
    {
     "name": "stdout",
     "output_type": "stream",
     "text": [
      "<class 'pandas.core.frame.DataFrame'>\n",
      "Index: 18635 entries, 0 to 18634\n",
      "Data columns (total 10 columns):\n",
      " #   Column     Non-Null Count  Dtype         \n",
      "---  ------     --------------  -----         \n",
      " 0   index      18635 non-null  float64       \n",
      " 1   DATE       18635 non-null  datetime64[ns]\n",
      " 2   Months     18635 non-null  object        \n",
      " 3   CUSTOMER   18635 non-null  object        \n",
      " 4   Style      18635 non-null  object        \n",
      " 5   SKU        18635 non-null  object        \n",
      " 6   Size       18635 non-null  object        \n",
      " 7   PCS        18635 non-null  float64       \n",
      " 8   RATE       18635 non-null  float64       \n",
      " 9   GROSS AMT  18635 non-null  float64       \n",
      "dtypes: datetime64[ns](1), float64(4), object(5)\n",
      "memory usage: 2.1+ MB\n"
     ]
    }
   ],
   "source": [
    "isrd['DATE'] = pd.to_datetime(isrd['DATE'], format='%m/%d/%Y')\n",
    "isrd.info()"
   ]
  },
  {
   "cell_type": "code",
   "execution_count": 213,
   "id": "86a2e6c1-9901-42fd-b524-3bbdc92182ae",
   "metadata": {},
   "outputs": [
    {
     "data": {
      "text/html": [
       "<div>\n",
       "<style scoped>\n",
       "    .dataframe tbody tr th:only-of-type {\n",
       "        vertical-align: middle;\n",
       "    }\n",
       "\n",
       "    .dataframe tbody tr th {\n",
       "        vertical-align: top;\n",
       "    }\n",
       "\n",
       "    .dataframe thead th {\n",
       "        text-align: right;\n",
       "    }\n",
       "</style>\n",
       "<table border=\"1\" class=\"dataframe\">\n",
       "  <thead>\n",
       "    <tr style=\"text-align: right;\">\n",
       "      <th></th>\n",
       "      <th>index</th>\n",
       "      <th>DATE</th>\n",
       "      <th>Months</th>\n",
       "      <th>CUSTOMER</th>\n",
       "      <th>Style</th>\n",
       "      <th>SKU</th>\n",
       "      <th>Size</th>\n",
       "      <th>PCS</th>\n",
       "      <th>RATE</th>\n",
       "      <th>GROSS AMT</th>\n",
       "    </tr>\n",
       "  </thead>\n",
       "  <tbody>\n",
       "    <tr>\n",
       "      <th>3168</th>\n",
       "      <td>3168.0</td>\n",
       "      <td>2021-09-14</td>\n",
       "      <td>Sep-21</td>\n",
       "      <td>RIVAAN LLC</td>\n",
       "      <td>JNE3428</td>\n",
       "      <td>JNE3428-KR-S</td>\n",
       "      <td>S</td>\n",
       "      <td>1.0</td>\n",
       "      <td>494.00</td>\n",
       "      <td>469.0</td>\n",
       "    </tr>\n",
       "    <tr>\n",
       "      <th>10952</th>\n",
       "      <td>10952.0</td>\n",
       "      <td>2021-10-08</td>\n",
       "      <td>Oct-21</td>\n",
       "      <td>ARKH FASHION BOUTIQUE PTY LTD</td>\n",
       "      <td>SET200</td>\n",
       "      <td>SET200-KR-NP-L</td>\n",
       "      <td>L</td>\n",
       "      <td>1.0</td>\n",
       "      <td>894.00</td>\n",
       "      <td>894.0</td>\n",
       "    </tr>\n",
       "    <tr>\n",
       "      <th>16001</th>\n",
       "      <td>16001.0</td>\n",
       "      <td>2022-03-03</td>\n",
       "      <td>Mar-22</td>\n",
       "      <td>SHILPI KUMARI</td>\n",
       "      <td>SET044</td>\n",
       "      <td>SET044-KR-NP-XL</td>\n",
       "      <td>XL</td>\n",
       "      <td>1.0</td>\n",
       "      <td>687.50</td>\n",
       "      <td>653.0</td>\n",
       "    </tr>\n",
       "    <tr>\n",
       "      <th>11525</th>\n",
       "      <td>11525.0</td>\n",
       "      <td>2021-10-21</td>\n",
       "      <td>Oct-21</td>\n",
       "      <td>MULBERRIES BOUTIQUE</td>\n",
       "      <td>J0129</td>\n",
       "      <td>J0129-SET-M</td>\n",
       "      <td>M</td>\n",
       "      <td>1.0</td>\n",
       "      <td>1213.00</td>\n",
       "      <td>1213.0</td>\n",
       "    </tr>\n",
       "    <tr>\n",
       "      <th>18524</th>\n",
       "      <td>18524.0</td>\n",
       "      <td>2022-05-10</td>\n",
       "      <td>May-22</td>\n",
       "      <td>Vinodha</td>\n",
       "      <td>MEN5025</td>\n",
       "      <td>MEN5025</td>\n",
       "      <td>S</td>\n",
       "      <td>1.0</td>\n",
       "      <td>605.00</td>\n",
       "      <td>605.0</td>\n",
       "    </tr>\n",
       "    <tr>\n",
       "      <th>793</th>\n",
       "      <td>793.0</td>\n",
       "      <td>2021-07-09</td>\n",
       "      <td>Jul-21</td>\n",
       "      <td>COTTON CLOSET LTD</td>\n",
       "      <td>SET131</td>\n",
       "      <td>SET131-KR-NP-XXL</td>\n",
       "      <td>XXL</td>\n",
       "      <td>1.0</td>\n",
       "      <td>647.19</td>\n",
       "      <td>589.0</td>\n",
       "    </tr>\n",
       "    <tr>\n",
       "      <th>2923</th>\n",
       "      <td>2923.0</td>\n",
       "      <td>2021-08-25</td>\n",
       "      <td>Aug-21</td>\n",
       "      <td>BINCY SKARIA</td>\n",
       "      <td>SET242</td>\n",
       "      <td>SET242-KR-PP-L</td>\n",
       "      <td>L</td>\n",
       "      <td>1.0</td>\n",
       "      <td>763.33</td>\n",
       "      <td>748.0</td>\n",
       "    </tr>\n",
       "    <tr>\n",
       "      <th>14187</th>\n",
       "      <td>14187.0</td>\n",
       "      <td>2022-02-14</td>\n",
       "      <td>Feb-22</td>\n",
       "      <td>SINDHU</td>\n",
       "      <td>SET331</td>\n",
       "      <td>SET331-KR-NP-XL</td>\n",
       "      <td>XL</td>\n",
       "      <td>1.0</td>\n",
       "      <td>650.00</td>\n",
       "      <td>650.0</td>\n",
       "    </tr>\n",
       "    <tr>\n",
       "      <th>10855</th>\n",
       "      <td>10855.0</td>\n",
       "      <td>2021-10-08</td>\n",
       "      <td>Oct-21</td>\n",
       "      <td>KALAIVANI PERMALU</td>\n",
       "      <td>JNE3687</td>\n",
       "      <td>JNE3687-TU-S</td>\n",
       "      <td>S</td>\n",
       "      <td>1.0</td>\n",
       "      <td>450.00</td>\n",
       "      <td>450.0</td>\n",
       "    </tr>\n",
       "    <tr>\n",
       "      <th>1239</th>\n",
       "      <td>1239.0</td>\n",
       "      <td>2021-07-09</td>\n",
       "      <td>Jul-21</td>\n",
       "      <td>COTTON CLOSET LTD</td>\n",
       "      <td>JNE3455</td>\n",
       "      <td>JNE3455-KR-XXL</td>\n",
       "      <td>XXL</td>\n",
       "      <td>1.0</td>\n",
       "      <td>356.89</td>\n",
       "      <td>325.0</td>\n",
       "    </tr>\n",
       "    <tr>\n",
       "      <th>5839</th>\n",
       "      <td>5839.0</td>\n",
       "      <td>2021-10-21</td>\n",
       "      <td>Oct-21</td>\n",
       "      <td>MULBERRIES BOUTIQUE</td>\n",
       "      <td>J0277</td>\n",
       "      <td>J0277-SKD-M</td>\n",
       "      <td>M</td>\n",
       "      <td>2.0</td>\n",
       "      <td>1758.00</td>\n",
       "      <td>3516.0</td>\n",
       "    </tr>\n",
       "    <tr>\n",
       "      <th>6942</th>\n",
       "      <td>6942.0</td>\n",
       "      <td>2021-11-29</td>\n",
       "      <td>Nov-21</td>\n",
       "      <td>MANGROWTEE SOOKDEB</td>\n",
       "      <td>J0152</td>\n",
       "      <td>J0152-DR-S</td>\n",
       "      <td>S</td>\n",
       "      <td>2.0</td>\n",
       "      <td>888.00</td>\n",
       "      <td>1776.0</td>\n",
       "    </tr>\n",
       "    <tr>\n",
       "      <th>7955</th>\n",
       "      <td>7955.0</td>\n",
       "      <td>2022-01-29</td>\n",
       "      <td>Jan-22</td>\n",
       "      <td>MULBERRIES BOUTIQUE</td>\n",
       "      <td>J0002</td>\n",
       "      <td>J0002-SKD-XXL</td>\n",
       "      <td>XXL</td>\n",
       "      <td>1.0</td>\n",
       "      <td>1350.00</td>\n",
       "      <td>1350.0</td>\n",
       "    </tr>\n",
       "    <tr>\n",
       "      <th>12621</th>\n",
       "      <td>12621.0</td>\n",
       "      <td>2021-11-29</td>\n",
       "      <td>Nov-21</td>\n",
       "      <td>THANA MARIMUTHU</td>\n",
       "      <td>SET345</td>\n",
       "      <td>SET345-KR-NP-M</td>\n",
       "      <td>M</td>\n",
       "      <td>1.0</td>\n",
       "      <td>688.00</td>\n",
       "      <td>688.0</td>\n",
       "    </tr>\n",
       "    <tr>\n",
       "      <th>14664</th>\n",
       "      <td>14664.0</td>\n",
       "      <td>2022-02-22</td>\n",
       "      <td>Feb-22</td>\n",
       "      <td>ETHNIC WEAVES FASHION LLC</td>\n",
       "      <td>J0120</td>\n",
       "      <td>J0120-TP-M</td>\n",
       "      <td>M</td>\n",
       "      <td>1.0</td>\n",
       "      <td>387.50</td>\n",
       "      <td>368.0</td>\n",
       "    </tr>\n",
       "    <tr>\n",
       "      <th>1959</th>\n",
       "      <td>1959.0</td>\n",
       "      <td>2021-07-31</td>\n",
       "      <td>Jul-21</td>\n",
       "      <td>REGA</td>\n",
       "      <td>JNE2009</td>\n",
       "      <td>JNE2009-KR-310-S</td>\n",
       "      <td>S</td>\n",
       "      <td>1.0</td>\n",
       "      <td>408.75</td>\n",
       "      <td>409.0</td>\n",
       "    </tr>\n",
       "    <tr>\n",
       "      <th>10947</th>\n",
       "      <td>10947.0</td>\n",
       "      <td>2021-10-08</td>\n",
       "      <td>Oct-21</td>\n",
       "      <td>ARKH FASHION BOUTIQUE PTY LTD</td>\n",
       "      <td>SET269</td>\n",
       "      <td>SET269-KR-NP-XL</td>\n",
       "      <td>XL</td>\n",
       "      <td>1.0</td>\n",
       "      <td>969.00</td>\n",
       "      <td>969.0</td>\n",
       "    </tr>\n",
       "    <tr>\n",
       "      <th>14882</th>\n",
       "      <td>14882.0</td>\n",
       "      <td>2022-02-22</td>\n",
       "      <td>Feb-22</td>\n",
       "      <td>ETHNIC WEAVES FASHION LLC</td>\n",
       "      <td>JNE3744</td>\n",
       "      <td>JNE3744-TU-XXXL</td>\n",
       "      <td>XXXL</td>\n",
       "      <td>1.0</td>\n",
       "      <td>562.50</td>\n",
       "      <td>534.0</td>\n",
       "    </tr>\n",
       "    <tr>\n",
       "      <th>6400</th>\n",
       "      <td>6400.0</td>\n",
       "      <td>2021-11-16</td>\n",
       "      <td>Nov-21</td>\n",
       "      <td>MULBERRIES BOUTIQUE</td>\n",
       "      <td>J0024</td>\n",
       "      <td>J0024-KR-S</td>\n",
       "      <td>S</td>\n",
       "      <td>1.0</td>\n",
       "      <td>537.50</td>\n",
       "      <td>538.0</td>\n",
       "    </tr>\n",
       "    <tr>\n",
       "      <th>17872</th>\n",
       "      <td>17872.0</td>\n",
       "      <td>2022-04-16</td>\n",
       "      <td>Apr-22</td>\n",
       "      <td>Priyanka Gupta</td>\n",
       "      <td>SET396</td>\n",
       "      <td>SET396</td>\n",
       "      <td>L</td>\n",
       "      <td>1.0</td>\n",
       "      <td>1050.00</td>\n",
       "      <td>1050.0</td>\n",
       "    </tr>\n",
       "    <tr>\n",
       "      <th>3647</th>\n",
       "      <td>3647.0</td>\n",
       "      <td>2021-09-14</td>\n",
       "      <td>Sep-21</td>\n",
       "      <td>FUSION FASHIONS CORP.</td>\n",
       "      <td>JNE3678</td>\n",
       "      <td>JNE3678-TU-XL</td>\n",
       "      <td>XL</td>\n",
       "      <td>1.0</td>\n",
       "      <td>431.00</td>\n",
       "      <td>418.0</td>\n",
       "    </tr>\n",
       "    <tr>\n",
       "      <th>17373</th>\n",
       "      <td>17373.0</td>\n",
       "      <td>2022-04-05</td>\n",
       "      <td>Apr-22</td>\n",
       "      <td>MULBERRIES BOUTIQUE</td>\n",
       "      <td>J0280</td>\n",
       "      <td>J0280</td>\n",
       "      <td>L</td>\n",
       "      <td>1.0</td>\n",
       "      <td>1795.00</td>\n",
       "      <td>1795.0</td>\n",
       "    </tr>\n",
       "    <tr>\n",
       "      <th>5793</th>\n",
       "      <td>5793.0</td>\n",
       "      <td>2021-10-21</td>\n",
       "      <td>Oct-21</td>\n",
       "      <td>MULBERRIES BOUTIQUE</td>\n",
       "      <td>J0090</td>\n",
       "      <td>J0090-TP-S</td>\n",
       "      <td>S</td>\n",
       "      <td>1.0</td>\n",
       "      <td>741.00</td>\n",
       "      <td>741.0</td>\n",
       "    </tr>\n",
       "    <tr>\n",
       "      <th>11975</th>\n",
       "      <td>11975.0</td>\n",
       "      <td>2021-11-12</td>\n",
       "      <td>Nov-21</td>\n",
       "      <td>VISHA DEVAN</td>\n",
       "      <td>JNE3670</td>\n",
       "      <td>JNE3670-TU-XL</td>\n",
       "      <td>XL</td>\n",
       "      <td>2.0</td>\n",
       "      <td>537.50</td>\n",
       "      <td>1075.0</td>\n",
       "    </tr>\n",
       "    <tr>\n",
       "      <th>12212</th>\n",
       "      <td>12212.0</td>\n",
       "      <td>2021-11-19</td>\n",
       "      <td>Nov-21</td>\n",
       "      <td>TANUJ UPPAL</td>\n",
       "      <td>J0296</td>\n",
       "      <td>J0296-DR-S</td>\n",
       "      <td>S</td>\n",
       "      <td>1.0</td>\n",
       "      <td>688.00</td>\n",
       "      <td>667.0</td>\n",
       "    </tr>\n",
       "    <tr>\n",
       "      <th>12826</th>\n",
       "      <td>12826.0</td>\n",
       "      <td>2021-12-13</td>\n",
       "      <td>Dec-21</td>\n",
       "      <td>REMMIA MATHEWS</td>\n",
       "      <td>SET264</td>\n",
       "      <td>SET264-KR-NP-L</td>\n",
       "      <td>L</td>\n",
       "      <td>1.0</td>\n",
       "      <td>975.00</td>\n",
       "      <td>975.0</td>\n",
       "    </tr>\n",
       "    <tr>\n",
       "      <th>16894</th>\n",
       "      <td>16894.0</td>\n",
       "      <td>2022-03-26</td>\n",
       "      <td>Mar-22</td>\n",
       "      <td>BHANU SALEINE NAUNITHAM</td>\n",
       "      <td>JNE3612</td>\n",
       "      <td>JNE3612-KR-M</td>\n",
       "      <td>M</td>\n",
       "      <td>3.0</td>\n",
       "      <td>475.00</td>\n",
       "      <td>1354.0</td>\n",
       "    </tr>\n",
       "    <tr>\n",
       "      <th>4227</th>\n",
       "      <td>4227.0</td>\n",
       "      <td>2021-09-21</td>\n",
       "      <td>Sep-21</td>\n",
       "      <td>M/S CHARISMAKURTIES(DUBAI)</td>\n",
       "      <td>J0118</td>\n",
       "      <td>J0118-TP-XXL</td>\n",
       "      <td>XXL</td>\n",
       "      <td>2.0</td>\n",
       "      <td>390.00</td>\n",
       "      <td>780.0</td>\n",
       "    </tr>\n",
       "    <tr>\n",
       "      <th>13496</th>\n",
       "      <td>13496.0</td>\n",
       "      <td>2022-01-25</td>\n",
       "      <td>Jan-22</td>\n",
       "      <td>BISSY SKARIA</td>\n",
       "      <td>JNE3710</td>\n",
       "      <td>JNE3710-DR-L</td>\n",
       "      <td>L</td>\n",
       "      <td>1.0</td>\n",
       "      <td>650.00</td>\n",
       "      <td>650.0</td>\n",
       "    </tr>\n",
       "    <tr>\n",
       "      <th>5649</th>\n",
       "      <td>5649.0</td>\n",
       "      <td>2021-10-18</td>\n",
       "      <td>Oct-21</td>\n",
       "      <td>GEETHA RAJA GOPAL</td>\n",
       "      <td>BL087</td>\n",
       "      <td>BL087-XL</td>\n",
       "      <td>XL</td>\n",
       "      <td>1.0</td>\n",
       "      <td>400.00</td>\n",
       "      <td>400.0</td>\n",
       "    </tr>\n",
       "  </tbody>\n",
       "</table>\n",
       "</div>"
      ],
      "text/plain": [
       "         index       DATE  Months                       CUSTOMER    Style  \\\n",
       "3168    3168.0 2021-09-14  Sep-21                     RIVAAN LLC  JNE3428   \n",
       "10952  10952.0 2021-10-08  Oct-21  ARKH FASHION BOUTIQUE PTY LTD   SET200   \n",
       "16001  16001.0 2022-03-03  Mar-22                  SHILPI KUMARI   SET044   \n",
       "11525  11525.0 2021-10-21  Oct-21            MULBERRIES BOUTIQUE    J0129   \n",
       "18524  18524.0 2022-05-10  May-22                        Vinodha  MEN5025   \n",
       "793      793.0 2021-07-09  Jul-21              COTTON CLOSET LTD   SET131   \n",
       "2923    2923.0 2021-08-25  Aug-21                   BINCY SKARIA   SET242   \n",
       "14187  14187.0 2022-02-14  Feb-22                         SINDHU   SET331   \n",
       "10855  10855.0 2021-10-08  Oct-21              KALAIVANI PERMALU  JNE3687   \n",
       "1239    1239.0 2021-07-09  Jul-21              COTTON CLOSET LTD  JNE3455   \n",
       "5839    5839.0 2021-10-21  Oct-21            MULBERRIES BOUTIQUE    J0277   \n",
       "6942    6942.0 2021-11-29  Nov-21             MANGROWTEE SOOKDEB    J0152   \n",
       "7955    7955.0 2022-01-29  Jan-22            MULBERRIES BOUTIQUE    J0002   \n",
       "12621  12621.0 2021-11-29  Nov-21                THANA MARIMUTHU   SET345   \n",
       "14664  14664.0 2022-02-22  Feb-22      ETHNIC WEAVES FASHION LLC    J0120   \n",
       "1959    1959.0 2021-07-31  Jul-21                           REGA  JNE2009   \n",
       "10947  10947.0 2021-10-08  Oct-21  ARKH FASHION BOUTIQUE PTY LTD   SET269   \n",
       "14882  14882.0 2022-02-22  Feb-22      ETHNIC WEAVES FASHION LLC  JNE3744   \n",
       "6400    6400.0 2021-11-16  Nov-21            MULBERRIES BOUTIQUE    J0024   \n",
       "17872  17872.0 2022-04-16  Apr-22                 Priyanka Gupta   SET396   \n",
       "3647    3647.0 2021-09-14  Sep-21          FUSION FASHIONS CORP.  JNE3678   \n",
       "17373  17373.0 2022-04-05  Apr-22            MULBERRIES BOUTIQUE    J0280   \n",
       "5793    5793.0 2021-10-21  Oct-21            MULBERRIES BOUTIQUE    J0090   \n",
       "11975  11975.0 2021-11-12  Nov-21                    VISHA DEVAN  JNE3670   \n",
       "12212  12212.0 2021-11-19  Nov-21                    TANUJ UPPAL    J0296   \n",
       "12826  12826.0 2021-12-13  Dec-21                 REMMIA MATHEWS   SET264   \n",
       "16894  16894.0 2022-03-26  Mar-22       BHANU SALEINE NAUNITHAM   JNE3612   \n",
       "4227    4227.0 2021-09-21  Sep-21     M/S CHARISMAKURTIES(DUBAI)    J0118   \n",
       "13496  13496.0 2022-01-25  Jan-22                   BISSY SKARIA  JNE3710   \n",
       "5649    5649.0 2021-10-18  Oct-21              GEETHA RAJA GOPAL    BL087   \n",
       "\n",
       "                    SKU  Size  PCS     RATE  GROSS AMT  \n",
       "3168       JNE3428-KR-S     S  1.0   494.00      469.0  \n",
       "10952    SET200-KR-NP-L     L  1.0   894.00      894.0  \n",
       "16001   SET044-KR-NP-XL    XL  1.0   687.50      653.0  \n",
       "11525       J0129-SET-M     M  1.0  1213.00     1213.0  \n",
       "18524           MEN5025     S  1.0   605.00      605.0  \n",
       "793    SET131-KR-NP-XXL   XXL  1.0   647.19      589.0  \n",
       "2923     SET242-KR-PP-L     L  1.0   763.33      748.0  \n",
       "14187   SET331-KR-NP-XL    XL  1.0   650.00      650.0  \n",
       "10855      JNE3687-TU-S     S  1.0   450.00      450.0  \n",
       "1239     JNE3455-KR-XXL   XXL  1.0   356.89      325.0  \n",
       "5839        J0277-SKD-M     M  2.0  1758.00     3516.0  \n",
       "6942         J0152-DR-S     S  2.0   888.00     1776.0  \n",
       "7955      J0002-SKD-XXL   XXL  1.0  1350.00     1350.0  \n",
       "12621    SET345-KR-NP-M     M  1.0   688.00      688.0  \n",
       "14664        J0120-TP-M     M  1.0   387.50      368.0  \n",
       "1959   JNE2009-KR-310-S     S  1.0   408.75      409.0  \n",
       "10947   SET269-KR-NP-XL    XL  1.0   969.00      969.0  \n",
       "14882   JNE3744-TU-XXXL  XXXL  1.0   562.50      534.0  \n",
       "6400         J0024-KR-S     S  1.0   537.50      538.0  \n",
       "17872            SET396     L  1.0  1050.00     1050.0  \n",
       "3647      JNE3678-TU-XL    XL  1.0   431.00      418.0  \n",
       "17373             J0280     L  1.0  1795.00     1795.0  \n",
       "5793         J0090-TP-S     S  1.0   741.00      741.0  \n",
       "11975     JNE3670-TU-XL    XL  2.0   537.50     1075.0  \n",
       "12212        J0296-DR-S     S  1.0   688.00      667.0  \n",
       "12826    SET264-KR-NP-L     L  1.0   975.00      975.0  \n",
       "16894      JNE3612-KR-M     M  3.0   475.00     1354.0  \n",
       "4227       J0118-TP-XXL   XXL  2.0   390.00      780.0  \n",
       "13496      JNE3710-DR-L     L  1.0   650.00      650.0  \n",
       "5649           BL087-XL    XL  1.0   400.00      400.0  "
      ]
     },
     "execution_count": 213,
     "metadata": {},
     "output_type": "execute_result"
    }
   ],
   "source": [
    "isrd.sample(30)"
   ]
  },
  {
   "cell_type": "code",
   "execution_count": 214,
   "id": "1d1e61cf-41c0-4513-89b8-7efd46f00baf",
   "metadata": {},
   "outputs": [],
   "source": [
    "isr = isrd.copy()"
   ]
  },
  {
   "cell_type": "code",
   "execution_count": 216,
   "id": "1004876a-adbf-462a-9270-f60486af9d5e",
   "metadata": {},
   "outputs": [],
   "source": [
    "isr = isr.drop(columns=['Months','Style'])"
   ]
  },
  {
   "cell_type": "code",
   "execution_count": 218,
   "id": "2ddd3d67-79bf-4cb0-82a1-0ddbf0118e40",
   "metadata": {},
   "outputs": [],
   "source": [
    "isr = isr.drop(columns='Size')"
   ]
  },
  {
   "cell_type": "code",
   "execution_count": 219,
   "id": "59a058b4-3b64-4a55-94b6-345528985c81",
   "metadata": {
    "scrolled": true
   },
   "outputs": [
    {
     "name": "stdout",
     "output_type": "stream",
     "text": [
      "<class 'pandas.core.frame.DataFrame'>\n",
      "Index: 18635 entries, 0 to 18634\n",
      "Data columns (total 7 columns):\n",
      " #   Column     Non-Null Count  Dtype         \n",
      "---  ------     --------------  -----         \n",
      " 0   index      18635 non-null  float64       \n",
      " 1   DATE       18635 non-null  datetime64[ns]\n",
      " 2   CUSTOMER   18635 non-null  object        \n",
      " 3   SKU        18635 non-null  object        \n",
      " 4   PCS        18635 non-null  float64       \n",
      " 5   RATE       18635 non-null  float64       \n",
      " 6   GROSS AMT  18635 non-null  float64       \n",
      "dtypes: datetime64[ns](1), float64(4), object(2)\n",
      "memory usage: 1.6+ MB\n"
     ]
    }
   ],
   "source": [
    "isr.info()"
   ]
  },
  {
   "cell_type": "code",
   "execution_count": 223,
   "id": "1ea39880-d7f1-4709-a26a-27339077bd81",
   "metadata": {},
   "outputs": [],
   "source": [
    "import pymysql\n",
    "from sqlalchemy import create_engine"
   ]
  },
  {
   "cell_type": "code",
   "execution_count": 224,
   "id": "bf33b5be-da65-4830-9674-95dc36200f10",
   "metadata": {},
   "outputs": [],
   "source": [
    "username = 'root'\n",
    "password = 'brandn3w'\n",
    "host = 'localhost'         # or the {{c1::IP address}}\n",
    "port = 3306                # default MySQL {{c1::port}} #Note: Better as an integer, everything else is strings\n",
    "database = 'ecommerce'     # your {{c1::DB name}}\n",
    "\n",
    "engine = create_engine(f\"mysql+pymysql://{username}:{password}@{host}:{port}/{database}\")"
   ]
  },
  {
   "cell_type": "code",
   "execution_count": 225,
   "id": "154d8256-034e-48c4-8406-220e19f0a406",
   "metadata": {},
   "outputs": [
    {
     "data": {
      "text/plain": [
       "18635"
      ]
     },
     "execution_count": 225,
     "metadata": {},
     "output_type": "execute_result"
    }
   ],
   "source": [
    "isr.to_sql('international_sales', con=engine, if_exists='replace', index=False)"
   ]
  },
  {
   "cell_type": "code",
   "execution_count": null,
   "id": "bd148027-a601-4e86-9a99-e54a9754a735",
   "metadata": {},
   "outputs": [],
   "source": []
  }
 ],
 "metadata": {
  "kernelspec": {
   "display_name": "Python [conda env:base] *",
   "language": "python",
   "name": "conda-base-py"
  },
  "language_info": {
   "codemirror_mode": {
    "name": "ipython",
    "version": 3
   },
   "file_extension": ".py",
   "mimetype": "text/x-python",
   "name": "python",
   "nbconvert_exporter": "python",
   "pygments_lexer": "ipython3",
   "version": "3.12.7"
  }
 },
 "nbformat": 4,
 "nbformat_minor": 5
}
